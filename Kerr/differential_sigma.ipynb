{
 "metadata": {
  "name": "differential_sigma"
 },
 "nbformat": 3,
 "nbformat_minor": 0,
 "worksheets": [
  {
   "cells": [
    {
     "cell_type": "code",
     "collapsed": false,
     "input": [
      "import numpy as np\n",
      "import KerrDeflection\n",
      "from matplotlib import pyplot as plt\n",
      "\n",
      "theta0 = np.pi/2\n",
      "a = 0.9999\n",
      "E = 1000.0\n",
      "res = (1000,1000)\n",
      "\n",
      "bmax=20\n",
      "\n",
      "scale_factor = KerrDeflection.bmin(E)/3/np.sqrt(3)\n",
      "\n",
      "bx = np.linspace(-bmax,bmax,res[0])*scale_factor\n",
      "bx, by = np.meshgrid(bx, bx)\n",
      "bx, by = bx.flatten(), by.flatten()\n",
      "%time theta, phi = KerrDeflection.KerrDeflectionC(a, theta0, E, bx, by)\n",
      "bx, by, phi, theta = bx.reshape(res), by.reshape(res), phi.reshape(res), theta.reshape(res)\n",
      "branch_index = np.floor((phi + np.pi)/2/np.pi)\n",
      "notnan = np.invert(np.isnan(phi))\n",
      "branch1 = np.abs(phi) < 2*np.pi\n",
      "x, y, z = KerrDeflection.SphericalToCartesian((theta, phi), theta0)\n",
      "theta2, phi2 = np.arccos(z), np.arctan2(y,x)"
     ],
     "language": "python",
     "metadata": {},
     "outputs": [
      {
       "output_type": "stream",
       "stream": "stdout",
       "text": [
        "CPU times: user 31.50 s, sys: 0.01 s, total: 31.50 s\n",
        "Wall time: 8.94 s\n"
       ]
      }
     ],
     "prompt_number": 88
    },
    {
     "cell_type": "code",
     "collapsed": false,
     "input": [
      "n_eta, n_epsilon = 100, 100\n",
      "eta = np.linspace(-np.pi, np.pi, n_eta)\n",
      "epsilon = np.logspace(-3, 2, 100)\n",
      "epsilon"
     ],
     "language": "python",
     "metadata": {},
     "outputs": [
      {
       "output_type": "pyout",
       "prompt_number": 17,
       "text": [
        "array([  1.00000000e-03,   1.12332403e-03,   1.26185688e-03,\n",
        "         1.41747416e-03,   1.59228279e-03,   1.78864953e-03,\n",
        "         2.00923300e-03,   2.25701972e-03,   2.53536449e-03,\n",
        "         2.84803587e-03,   3.19926714e-03,   3.59381366e-03,\n",
        "         4.03701726e-03,   4.53487851e-03,   5.09413801e-03,\n",
        "         5.72236766e-03,   6.42807312e-03,   7.22080902e-03,\n",
        "         8.11130831e-03,   9.11162756e-03,   1.02353102e-02,\n",
        "         1.14975700e-02,   1.29154967e-02,   1.45082878e-02,\n",
        "         1.62975083e-02,   1.83073828e-02,   2.05651231e-02,\n",
        "         2.31012970e-02,   2.59502421e-02,   2.91505306e-02,\n",
        "         3.27454916e-02,   3.67837977e-02,   4.13201240e-02,\n",
        "         4.64158883e-02,   5.21400829e-02,   5.85702082e-02,\n",
        "         6.57933225e-02,   7.39072203e-02,   8.30217568e-02,\n",
        "         9.32603347e-02,   1.04761575e-01,   1.17681195e-01,\n",
        "         1.32194115e-01,   1.48496826e-01,   1.66810054e-01,\n",
        "         1.87381742e-01,   2.10490414e-01,   2.36448941e-01,\n",
        "         2.65608778e-01,   2.98364724e-01,   3.35160265e-01,\n",
        "         3.76493581e-01,   4.22924287e-01,   4.75081016e-01,\n",
        "         5.33669923e-01,   5.99484250e-01,   6.73415066e-01,\n",
        "         7.56463328e-01,   8.49753436e-01,   9.54548457e-01,\n",
        "         1.07226722e+00,   1.20450354e+00,   1.35304777e+00,\n",
        "         1.51991108e+00,   1.70735265e+00,   1.91791026e+00,\n",
        "         2.15443469e+00,   2.42012826e+00,   2.71858824e+00,\n",
        "         3.05385551e+00,   3.43046929e+00,   3.85352859e+00,\n",
        "         4.32876128e+00,   4.86260158e+00,   5.46227722e+00,\n",
        "         6.13590727e+00,   6.89261210e+00,   7.74263683e+00,\n",
        "         8.69749003e+00,   9.77009957e+00,   1.09749877e+01,\n",
        "         1.23284674e+01,   1.38488637e+01,   1.55567614e+01,\n",
        "         1.74752840e+01,   1.96304065e+01,   2.20513074e+01,\n",
        "         2.47707636e+01,   2.78255940e+01,   3.12571585e+01,\n",
        "         3.51119173e+01,   3.94420606e+01,   4.43062146e+01,\n",
        "         4.97702356e+01,   5.59081018e+01,   6.28029144e+01,\n",
        "         7.05480231e+01,   7.92482898e+01,   8.90215085e+01,\n",
        "         1.00000000e+02])"
       ]
      }
     ],
     "prompt_number": 17
    },
    {
     "cell_type": "code",
     "collapsed": false,
     "input": [
      "x, y, z = np.cos(phi)*np.sin(theta), np.sin(phi)*np.sin(theta), np.cos(theta)\n",
      "\n",
      "#rotate about the y axis                                                                                                              \n",
      "x, z = np.cos(-theta0)*x - np.sin(-theta0)*z, np.sin(-theta0)*x + np.cos(-theta0)*z\n",
      "\n",
      "phi2, theta2 = np.arctan2(y, x), np.arccos(z)"
     ],
     "language": "python",
     "metadata": {},
     "outputs": [],
     "prompt_number": 2
    },
    {
     "cell_type": "code",
     "collapsed": false,
     "input": [
      "dy_dphi, dx_dphi = 1000.0/res[0]/np.array(np.gradient(phi2))\n",
      "dy_dtheta, dx_dtheta = 1000.0/res[0]/np.array(np.gradient(theta2))\n",
      "\n",
      "jacobian = np.abs(dx_dphi*dy_dtheta - dy_dphi*dx_dtheta)\n",
      "\n"
     ],
     "language": "python",
     "metadata": {},
     "outputs": [],
     "prompt_number": 3
    },
    {
     "cell_type": "code",
     "collapsed": false,
     "input": [
      "from scipy import interpolate\n",
      "ntheta, nphi = 100, 200\n",
      "gridtheta = np.arccos(np.polynomial.legendre.leggauss(ntheta)[0])[::-1]\n",
      "gridphi = np.linspace(0, 2*np.pi*(1-1.0/nphi),nphi)\n",
      "gridphi, gridtheta = np.meshgrid(gridphi, gridtheta)\n",
      "\n",
      "branch_masks = [branch_index==i for i in range(-1,2)]\n",
      "\n",
      "interp_jac = np.array([interpolate.griddata((theta[i].flatten(),\n",
      "                                        phi[i].flatten()), \n",
      "                                        jacobian[i].flatten(), \n",
      "                                        (gridtheta.flatten(), gridphi.flatten())).reshape((ntheta,nphi)) for i in branch_masks if np.any(i)])\n",
      "                                        jacobian[i].flatten(), eta,nphi)) for i in branch_masks if np.any(i)])"
     ],
     "language": "python",
     "metadata": {},
     "outputs": [],
     "prompt_number": 34
    },
    {
     "cell_type": "code",
     "collapsed": false,
     "input": [],
     "language": "python",
     "metadata": {},
     "outputs": [],
     "prompt_number": 82
    },
    {
     "cell_type": "code",
     "collapsed": false,
     "input": [
      "interp_jac[1]"
     ],
     "language": "python",
     "metadata": {},
     "outputs": [
      {
       "output_type": "pyout",
       "prompt_number": 38,
       "text": [
        "array([[          nan,           nan,           nan, ...,    4.30613591,\n",
        "         195.97102528,    0.99701742],\n",
        "       [          nan,           nan,           nan, ...,    6.54489663,\n",
        "           7.60133862,  163.10867797],\n",
        "       [          nan,           nan,           nan, ...,    3.35958149,\n",
        "           2.52321063,    1.82859839],\n",
        "       ..., \n",
        "       [          nan,           nan,           nan, ...,           nan,\n",
        "                  nan,           nan],\n",
        "       [          nan,           nan,           nan, ...,           nan,\n",
        "                  nan,           nan],\n",
        "       [          nan,           nan,           nan, ...,           nan,\n",
        "                  nan,           nan]])"
       ]
      }
     ],
     "prompt_number": 38
    },
    {
     "cell_type": "code",
     "collapsed": false,
     "input": [],
     "language": "python",
     "metadata": {},
     "outputs": [
      {
       "output_type": "pyout",
       "prompt_number": 19,
       "text": [
        "1000"
       ]
      }
     ],
     "prompt_number": 19
    },
    {
     "cell_type": "code",
     "collapsed": false,
     "input": [
      "jac2 = np.abs((np.sin(theta)*(-5 + np.cos (2*theta) + (3*np.cos (2*theta - 2*theta0))/2. + np.cos (2*theta0) + (3*np.cos (2*(theta + theta0)))/2. + \n",
      "4*np.cos(2*phi)*np.sin (theta) ** 2*np.sin (theta0) ** 2 + 4*np.cos (phi)*np.sin (2*theta)*np.sin (2*theta0)))/(8.*((np.cos (phi) ** 2*np.cos (theta0) ** 2 + \n",
      "np.sin (phi) ** 2)*np.sin (theta) ** 2 - 2*np.cos (phi)*np.cos(theta)*np.cos (theta0)*np.sin (theta)*np.sin (theta0) +  np.cos (theta) ** 2*np.sin (theta0) ** 2)*\n",
      "np.sqrt (1 - (np.cos (theta)*np.cos (theta0) + np.cos (phi)*np.sin (theta)*np.sin (theta0)) ** 2)))"
     ],
     "language": "python",
     "metadata": {},
     "outputs": [],
     "prompt_number": 18
    },
    {
     "cell_type": "code",
     "collapsed": false,
     "input": [
      "plt.scatter(theta.flatten()[::10], phi.flatten()[::10])\n",
      "plt.show()"
     ],
     "language": "python",
     "metadata": {},
     "outputs": [],
     "prompt_number": 3
    },
    {
     "cell_type": "code",
     "collapsed": false,
     "input": [
      "#dtheta = np.abs(np.pi/2 - theta)\n",
      "#dist = 2*np.arcsin(np.sqrt(np.sin(dphi/2)**2 + np.cos(np.pi)*np.cos(phi)*np.sin(dtheta/2)**2))\n",
      "phi[branch_index==1].shape"
     ],
     "language": "python",
     "metadata": {},
     "outputs": [
      {
       "output_type": "pyout",
       "prompt_number": 6,
       "text": [
        "(488416,)"
       ]
      }
     ],
     "prompt_number": 6
    },
    {
     "cell_type": "code",
     "collapsed": false,
     "input": [
      "dphi = np.gradient(phi - (branch_index)*2*np.pi)\n",
      "notnan = np.invert(np.isnan(phi))\n",
      "np.max(np.abs(dphi[0][notnan]))"
     ],
     "language": "python",
     "metadata": {},
     "outputs": [
      {
       "output_type": "pyout",
       "prompt_number": 68,
       "text": [
        "nan"
       ]
      }
     ],
     "prompt_number": 68
    },
    {
     "cell_type": "code",
     "collapsed": false,
     "input": [
      "sort_index = np.argsort(np.sqrt(bx**2+by**2).flatten())\n",
      "plt.plot(np.sqrt(bx**2+by**2).flatten()[sort_index][branch_index.flatten()==0], theta.flatten()[sort_index][branch_index.flatten()==0])\n",
      "plt.show()"
     ],
     "language": "python",
     "metadata": {},
     "outputs": [],
     "prompt_number": 25
    },
    {
     "cell_type": "code",
     "collapsed": false,
     "input": [
      "plt.clf()\n",
      "plt.rc('text',usetex=True)\n",
      "ax = plt.subplot(\"111\", aspect='equal')\n",
      "ax.pcolormesh(bx, by, theta2, vmin=0,vmax=np.pi)\n",
      "#ax.pcolormesh(gridtheta, gridphi, np.log(interp_jac),vmin=-5,vmax=5)\n",
      "#ax.plot_wireframe(phi[branch_index==1].reshape((473536/2,2)),theta[branch_index==1].reshape((473536/2,2)), np.log(jacobian*jac2)[branch_index==1].reshape((473536/2,2)))\n",
      "#ax.clabel(cont, inline=1, fontsize = 10)\n",
      "ax.set_autoscale_on(True)\n",
      "ax.set_xlabel(\"$\\\\alpha$ $(R_G)$\")\n",
      "ax.set_ylabel(\"$\\\\beta$ $(R_G)$\")\n",
      "ax.set_xlim([-bmax,bmax])\n",
      "ax.set_ylim([-bmax,bmax])\n",
      "#ax.set_xlim([-np.pi,np.pi])\n",
      "#ax.set_ylim([0.0,np.pi])\n",
      "\n",
      "plt.show()\n",
      "#ax.figure.savefig(\"derp.png\",dpi=400,bbox_inches='tight')"
     ],
     "language": "python",
     "metadata": {},
     "outputs": [],
     "prompt_number": 86
    },
    {
     "cell_type": "code",
     "collapsed": false,
     "input": [
      "ntheta, nphi = 100, 200\n",
      "\n",
      " "
     ],
     "language": "python",
     "metadata": {},
     "outputs": [],
     "prompt_number": 74
    },
    {
     "cell_type": "code",
     "collapsed": false,
     "input": [
      "#notnan = np.invert(np.isnan(theta))\n",
      "plt.plot(r[0], theta[:,0])\n",
      "plt.show()"
     ],
     "language": "python",
     "metadata": {},
     "outputs": [],
     "prompt_number": 17
    },
    {
     "cell_type": "code",
     "collapsed": false,
     "input": [
      "phi[np.abs(phi)==np.min(np.abs(phi[np.invert(np.isnan(phi))]))]"
     ],
     "language": "python",
     "metadata": {},
     "outputs": [
      {
       "output_type": "pyout",
       "prompt_number": 168,
       "text": [
        "array([-2.85897241])"
       ]
      }
     ],
     "prompt_number": 168
    },
    {
     "cell_type": "code",
     "collapsed": false,
     "input": [
      "by.flatten()[np.argmin(np.abs(phi))]"
     ],
     "language": "python",
     "metadata": {},
     "outputs": [
      {
       "output_type": "pyout",
       "prompt_number": 174,
       "text": [
        "-5.1851869135815916"
       ]
      }
     ],
     "prompt_number": 174
    },
    {
     "cell_type": "code",
     "collapsed": false,
     "input": [
      "idx=np.argmin(np.abs(phi[np.invert(np.isnan(phi))]))\n",
      "theta.flatten()[idx]"
     ],
     "language": "python",
     "metadata": {},
     "outputs": [
      {
       "output_type": "pyout",
       "prompt_number": 185,
       "text": [
        "1.7949159309252343"
       ]
      }
     ],
     "prompt_number": 185
    },
    {
     "cell_type": "code",
     "collapsed": false,
     "input": [],
     "language": "python",
     "metadata": {},
     "outputs": []
    }
   ],
   "metadata": {}
  }
 ]
}