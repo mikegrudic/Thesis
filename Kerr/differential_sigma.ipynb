{
 "metadata": {
  "name": "differential_sigma"
 },
 "nbformat": 3,
 "nbformat_minor": 0,
 "worksheets": [
  {
   "cells": [
    {
     "cell_type": "code",
     "collapsed": false,
     "input": [
      "import numpy as np\n",
      "import KerrDeflection\n",
      "from matplotlib import pyplot as plt\n",
      "\n",
      "theta0 = np.pi/2\n",
      "a = 0.998\n",
      "E = 1000.0\n",
      "res = (1000,1000)\n",
      "\n",
      "bmax=20\n",
      "\n",
      "scale_factor = KerrDeflection.bmin(E)/3/np.sqrt(3)\n",
      "\n",
      "bx, by = KerrDeflection.EtaBxBy(a, E, theta0, res[0])\n",
      "\n",
      "#bx = np.linspace(-bmax, bmax,res[0])*scale_factor\n",
      "\n",
      "#bx, by = np.meshgrid(bx, bx)\n",
      "bx, by = np.outer(bx, 1+np.logspace(-2,2, res[1])), np.outer(by, 1+np.logspace(-2,2, res[1]))\n",
      "bx, by = bx.flatten(), by.flatten()\n",
      "%time theta, phi = KerrDeflection.KerrDeflectionC(a, theta0, E, bx, by)\n",
      "bx, by, phi, theta = bx.reshape(res), by.reshape(res), phi.reshape(res), theta.reshape(res)\n",
      "branch_index = np.floor((phi + np.pi)/2/np.pi)\n",
      "notnan = np.invert(np.isnan(phi))\n",
      "branch1 = np.abs(phi) < 4*np.pi\n",
      "x, y, z = KerrDeflection.SphericalToCartesian((theta, phi), theta0)\n",
      "theta2, phi2 = np.arccos(z), np.arctan2(y,x)\n",
      "theta2[np.isnan(theta2)] = 0.0\n",
      "phi2[np.isnan(phi2)] = 0.0\n",
      "#theta2 = np.ma.masked_array(theta2, np.abs(phi)>2*np.pi)\n",
      "#phi2 = np.ma.masked_array(phi2, np.abs(phi)>2*np.pi)"
     ],
     "language": "python",
     "metadata": {},
     "outputs": [
      {
       "output_type": "stream",
       "stream": "stdout",
       "text": [
        "CPU times: user 19.36 s, sys: 0.06 s, total: 19.43 s\n",
        "Wall time: 6.28 s\n"
       ]
      }
     ],
     "prompt_number": 11
    },
    {
     "cell_type": "code",
     "collapsed": false,
     "input": [
      "plt.plot(bx.flatten()[::10], by.flatten()[::10], 'o', markersize=0.5)\n",
      "plt.show()"
     ],
     "language": "python",
     "metadata": {},
     "outputs": [],
     "prompt_number": 25
    },
    {
     "cell_type": "code",
     "collapsed": false,
     "input": [
      "KerrDeflection.KerrDeflectionC(0.998, np.pi/2, 1000, -15, 0.00001)"
     ],
     "language": "python",
     "metadata": {},
     "outputs": [
      {
       "output_type": "pyout",
       "prompt_number": 14,
       "text": [
        "(array([ 1.57079659]), array([-3.51506152]))"
       ]
      }
     ],
     "prompt_number": 14
    },
    {
     "cell_type": "code",
     "collapsed": false,
     "input": [
      "x, y, z = np.cos(phi)*np.sin(theta), np.sin(phi)*np.sin(theta), np.cos(theta)\n",
      "\n",
      "#rotate about the y axis                                                                                                              \n",
      "x, z = np.cos(-theta0)*x - np.sin(-theta0)*z, np.sin(-theta0)*x + np.cos(-theta0)*z\n",
      "\n",
      "phi2, theta2 = np.arctan2(y, x), np.arccos(z)"
     ],
     "language": "python",
     "metadata": {},
     "outputs": [],
     "prompt_number": 2
    },
    {
     "cell_type": "code",
     "collapsed": false,
     "input": [
      "#dphi = np.gradient(phi2)\n",
      "#dphi[np.abs(dphi) > 1.0] = np.abs((np.abs(dphi[np.abs(dphi) > 1.0])-np.pi))\n",
      "#print np.max(np.abs(dphi))\n",
      "#dx_deta, dx_depsilon = np.gradient(dx)\n",
      "#dy_deta, dy_depsilon = np.gradient(dy)\n",
      "dphi_dy, dphi_dx = np.array(np.gradient(phi2))\n",
      "jumpx = np.abs(dphi_dx) > 1.0\n",
      "dphi_dx[jumpx] = np.abs((np.abs(dphi_dx[jumpx])-np.pi))*np.sign(dphi_dx[jumpx])\n",
      "jumpy = np.abs(dphi_dy) > 1.0\n",
      "dphi_dy[jumpy] = np.abs((np.abs(dphi_dy[jumpy])-np.pi))*np.sign(dphi_dy[jumpy])\n",
      "\n",
      "dtheta_dy, dtheta_dx = np.array(np.gradient(theta2))\n",
      "\n",
      "jacobian = 1/np.abs(dphi_dy*dtheta_dx - dtheta_dy*dphi_dx)\n",
      "\n"
     ],
     "language": "python",
     "metadata": {},
     "outputs": [],
     "prompt_number": 146
    },
    {
     "cell_type": "code",
     "collapsed": false,
     "input": [
      "from scipy import interpolate\n",
      "ntheta, nphi = 100, 200\n",
      "gridtheta = np.arccos(np.polynomial.legendre.leggauss(ntheta)[0])[::-1]\n",
      "gridphi = np.linspace(0, 2*np.pi*(1-1.0/nphi),nphi)\n",
      "gridphi, gridtheta = np.meshgrid(gridphi, gridtheta)\n",
      "\n",
      "interp_jac = interpolate.griddata((theta2.flatten(),phi2.flatten()), jacobian.flatten(), (gridtheta.flatten(),gridphi.flatten()))"
     ],
     "language": "python",
     "metadata": {},
     "outputs": [],
     "prompt_number": 150
    },
    {
     "cell_type": "code",
     "collapsed": false,
     "input": [
      "jac2 = np.abs((np.sin(theta)*(-5 + np.cos (2*theta) + (3*np.cos (2*theta - 2*theta0))/2. + np.cos (2*theta0) + (3*np.cos (2*(theta + theta0)))/2. + \n",
      "4*np.cos(2*phi)*np.sin (theta) ** 2*np.sin (theta0) ** 2 + 4*np.cos (phi)*np.sin (2*theta)*np.sin (2*theta0)))/(8.*((np.cos (phi) ** 2*np.cos (theta0) ** 2 + \n",
      "np.sin (phi) ** 2)*np.sin (theta) ** 2 - 2*np.cos (phi)*np.cos(theta)*np.cos (theta0)*np.sin (theta)*np.sin (theta0) +  np.cos (theta) ** 2*np.sin (theta0) ** 2)*\n",
      "np.sqrt (1 - (np.cos (theta)*np.cos (theta0) + np.cos (phi)*np.sin (theta)*np.sin (theta0)) ** 2)))"
     ],
     "language": "python",
     "metadata": {},
     "outputs": [],
     "prompt_number": 18
    },
    {
     "cell_type": "code",
     "collapsed": false,
     "input": [
      "plt.scatter(theta.flatten()[::10], phi.flatten()[::10])\n",
      "plt.show()"
     ],
     "language": "python",
     "metadata": {},
     "outputs": [],
     "prompt_number": 3
    },
    {
     "cell_type": "code",
     "collapsed": false,
     "input": [
      "#dtheta = np.abs(np.pi/2 - theta)\n",
      "#dist = 2*np.arcsin(np.sqrt(np.sin(dphi/2)**2 + np.cos(np.pi)*np.cos(phi)*np.sin(dtheta/2)**2))\n",
      "phi[branch_index==1].shape"
     ],
     "language": "python",
     "metadata": {},
     "outputs": [
      {
       "output_type": "pyout",
       "prompt_number": 6,
       "text": [
        "(488416,)"
       ]
      }
     ],
     "prompt_number": 6
    },
    {
     "cell_type": "code",
     "collapsed": false,
     "input": [
      "dphi = np.gradient(phi - (branch_index)*2*np.pi)\n",
      "notnan = np.invert(np.isnan(phi))\n",
      "np.max(np.abs(dphi[0][notnan]))"
     ],
     "language": "python",
     "metadata": {},
     "outputs": [
      {
       "output_type": "pyout",
       "prompt_number": 68,
       "text": [
        "nan"
       ]
      }
     ],
     "prompt_number": 68
    },
    {
     "cell_type": "code",
     "collapsed": false,
     "input": [
      "sort_index = np.argsort(np.sqrt(bx**2+by**2).flatten())\n",
      "plt.plot(np.sqrt(bx**2+by**2).flatten()[sort_index][branch_index.flatten()==0], theta.flatten()[sort_index][branch_index.flatten()==0])\n",
      "plt.show()"
     ],
     "language": "python",
     "metadata": {},
     "outputs": [],
     "prompt_number": 25
    },
    {
     "cell_type": "code",
     "collapsed": false,
     "input": [
      "theta2[np.abs(phi) > 2*np.pi] += np.sign(theta2[np.abs(phi) > 2*np.pi])*2*np.pi"
     ],
     "language": "python",
     "metadata": {},
     "outputs": [],
     "prompt_number": 9
    },
    {
     "cell_type": "code",
     "collapsed": false,
     "input": [
      "bmax = 12\n",
      "plt.clf()\n",
      "plt.rc('text',usetex=True)\n",
      "ax = plt.subplot(\"111\", aspect='equal')\n",
      "graph = ax.pcolormesh(bx, by, theta2, vmax=np.pi)\n",
      "#ax.pcolormesh(gridtheta, gridphi, np.log(interp_jac),vmin=-5,vmax=5)\n",
      "#ax.plot_wireframe(phi[branch_index==1].reshape((473536/2,2)),theta[branch_index==1].reshape((473536/2,2)), np.log(jacobian*jac2)[branch_index==1].reshape((473536/2,2)))\n",
      "#cont = ax.contour(bx, by, theta2, vmax=np.pi)\n",
      "#ax.clabel(cont, inline=1, fontsize = 10)\n",
      "ax.grid(which='both')\n",
      "ax.set_autoscale_on(True)\n",
      "ax.set_xlabel(\"$b_x$)$\")\n",
      "ax.set_ylabel(\"$b_y$\")\n",
      "ax.set_xlim([-bmax,bmax])\n",
      "ax.set_ylim([-bmax,bmax])\n",
      "ax.clabel(graph, fontsize=9)#.set_label(\"$\\log_{10}(\\\\frac{\\\\frac{d\\\\sigma}{d\\\\Omega}}{1 R_G^2 sr^{-1}})$\")\n",
      "#ax.set_xlim([-np.pi,np.pi])\n",
      "#ax.set_ylim([0.0,np.pi])\n",
      "\n",
      "plt.show()\n",
      "#ax.figure.savefig(\"derp.png\",dpi=400,bbox_inches='tight')"
     ],
     "language": "python",
     "metadata": {},
     "outputs": [
      {
       "ename": "AttributeError",
       "evalue": "'QuadMesh' object has no attribute 'clabel'",
       "output_type": "pyerr",
       "traceback": [
        "\u001b[1;31m---------------------------------------------------------------------------\u001b[0m\n\u001b[1;31mAttributeError\u001b[0m                            Traceback (most recent call last)",
        "\u001b[1;32m<ipython-input-27-07a67401ee49>\u001b[0m in \u001b[0;36m<module>\u001b[1;34m()\u001b[0m\n\u001b[0;32m     14\u001b[0m \u001b[0max\u001b[0m\u001b[1;33m.\u001b[0m\u001b[0mset_xlim\u001b[0m\u001b[1;33m(\u001b[0m\u001b[1;33m[\u001b[0m\u001b[1;33m-\u001b[0m\u001b[0mbmax\u001b[0m\u001b[1;33m,\u001b[0m\u001b[0mbmax\u001b[0m\u001b[1;33m]\u001b[0m\u001b[1;33m)\u001b[0m\u001b[1;33m\u001b[0m\u001b[0m\n\u001b[0;32m     15\u001b[0m \u001b[0max\u001b[0m\u001b[1;33m.\u001b[0m\u001b[0mset_ylim\u001b[0m\u001b[1;33m(\u001b[0m\u001b[1;33m[\u001b[0m\u001b[1;33m-\u001b[0m\u001b[0mbmax\u001b[0m\u001b[1;33m,\u001b[0m\u001b[0mbmax\u001b[0m\u001b[1;33m]\u001b[0m\u001b[1;33m)\u001b[0m\u001b[1;33m\u001b[0m\u001b[0m\n\u001b[1;32m---> 16\u001b[1;33m \u001b[0max\u001b[0m\u001b[1;33m.\u001b[0m\u001b[0mclabel\u001b[0m\u001b[1;33m(\u001b[0m\u001b[0mgraph\u001b[0m\u001b[1;33m,\u001b[0m \u001b[0mfontsize\u001b[0m\u001b[1;33m=\u001b[0m\u001b[1;36m9\u001b[0m\u001b[1;33m)\u001b[0m\u001b[1;31m#.set_label(\"$\\log_{10}(\\\\frac{\\\\frac{d\\\\sigma}{d\\\\Omega}}{1 R_G^2 sr^{-1}})$\")\u001b[0m\u001b[1;33m\u001b[0m\u001b[0m\n\u001b[0m\u001b[0;32m     17\u001b[0m \u001b[1;31m#ax.set_xlim([-np.pi,np.pi])\u001b[0m\u001b[1;33m\u001b[0m\u001b[1;33m\u001b[0m\u001b[0m\n\u001b[0;32m     18\u001b[0m \u001b[1;31m#ax.set_ylim([0.0,np.pi])\u001b[0m\u001b[1;33m\u001b[0m\u001b[1;33m\u001b[0m\u001b[0m\n",
        "\u001b[1;32m/usr/lib64/python2.7/site-packages/matplotlib/axes.pyc\u001b[0m in \u001b[0;36mclabel\u001b[1;34m(self, CS, *args, **kwargs)\u001b[0m\n\u001b[0;32m   7728\u001b[0m \u001b[1;33m\u001b[0m\u001b[0m\n\u001b[0;32m   7729\u001b[0m     \u001b[1;32mdef\u001b[0m \u001b[0mclabel\u001b[0m\u001b[1;33m(\u001b[0m\u001b[0mself\u001b[0m\u001b[1;33m,\u001b[0m \u001b[0mCS\u001b[0m\u001b[1;33m,\u001b[0m \u001b[1;33m*\u001b[0m\u001b[0margs\u001b[0m\u001b[1;33m,\u001b[0m \u001b[1;33m**\u001b[0m\u001b[0mkwargs\u001b[0m\u001b[1;33m)\u001b[0m\u001b[1;33m:\u001b[0m\u001b[1;33m\u001b[0m\u001b[0m\n\u001b[1;32m-> 7730\u001b[1;33m         \u001b[1;32mreturn\u001b[0m \u001b[0mCS\u001b[0m\u001b[1;33m.\u001b[0m\u001b[0mclabel\u001b[0m\u001b[1;33m(\u001b[0m\u001b[1;33m*\u001b[0m\u001b[0margs\u001b[0m\u001b[1;33m,\u001b[0m \u001b[1;33m**\u001b[0m\u001b[0mkwargs\u001b[0m\u001b[1;33m)\u001b[0m\u001b[1;33m\u001b[0m\u001b[0m\n\u001b[0m\u001b[0;32m   7731\u001b[0m     \u001b[0mclabel\u001b[0m\u001b[1;33m.\u001b[0m\u001b[0m__doc__\u001b[0m \u001b[1;33m=\u001b[0m \u001b[0mmcontour\u001b[0m\u001b[1;33m.\u001b[0m\u001b[0mContourSet\u001b[0m\u001b[1;33m.\u001b[0m\u001b[0mclabel\u001b[0m\u001b[1;33m.\u001b[0m\u001b[0m__doc__\u001b[0m\u001b[1;33m\u001b[0m\u001b[0m\n\u001b[0;32m   7732\u001b[0m \u001b[1;33m\u001b[0m\u001b[0m\n",
        "\u001b[1;31mAttributeError\u001b[0m: 'QuadMesh' object has no attribute 'clabel'"
       ]
      }
     ],
     "prompt_number": 27
    },
    {
     "cell_type": "code",
     "collapsed": false,
     "input": [
      "plt.clf()\n",
      "plt.pcolormesh(gridphi, gridtheta, np.log10(interp_jac).reshape(gridphi.shape),)\n",
      "plt.show()"
     ],
     "language": "python",
     "metadata": {},
     "outputs": [],
     "prompt_number": 154
    },
    {
     "cell_type": "code",
     "collapsed": false,
     "input": [
      "plt.imshow(np.log10(jacobian))\n",
      "plt.show()"
     ],
     "language": "python",
     "metadata": {},
     "outputs": [],
     "prompt_number": 159
    },
    {
     "cell_type": "code",
     "collapsed": false,
     "input": [
      "interp_jac"
     ],
     "language": "python",
     "metadata": {},
     "outputs": [
      {
       "output_type": "pyout",
       "prompt_number": 156,
       "text": [
        "array([ inf,  inf,  inf, ...,  nan,  nan,  nan])"
       ]
      }
     ],
     "prompt_number": 156
    },
    {
     "cell_type": "code",
     "collapsed": false,
     "input": [
      "phi[np.abs(phi)==np.min(np.abs(phi[np.invert(np.isnan(phi))]))]"
     ],
     "language": "python",
     "metadata": {},
     "outputs": [
      {
       "output_type": "pyout",
       "prompt_number": 168,
       "text": [
        "array([-2.85897241])"
       ]
      }
     ],
     "prompt_number": 168
    },
    {
     "cell_type": "code",
     "collapsed": false,
     "input": [
      "by.flatten()[np.argmin(np.abs(phi))]"
     ],
     "language": "python",
     "metadata": {},
     "outputs": [
      {
       "output_type": "pyout",
       "prompt_number": 174,
       "text": [
        "-5.1851869135815916"
       ]
      }
     ],
     "prompt_number": 174
    },
    {
     "cell_type": "code",
     "collapsed": false,
     "input": [
      "idx=np.argmin(np.abs(phi[np.invert(np.isnan(phi))]))\n",
      "theta.flatten()[idx]"
     ],
     "language": "python",
     "metadata": {},
     "outputs": [
      {
       "output_type": "pyout",
       "prompt_number": 185,
       "text": [
        "1.7949159309252343"
       ]
      }
     ],
     "prompt_number": 185
    },
    {
     "cell_type": "code",
     "collapsed": false,
     "input": [],
     "language": "python",
     "metadata": {},
     "outputs": []
    }
   ],
   "metadata": {}
  }
 ]
}